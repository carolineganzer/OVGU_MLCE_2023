{
  "nbformat": 4,
  "nbformat_minor": 0,
  "metadata": {
    "colab": {
      "provenance": []
    },
    "kernelspec": {
      "name": "python3",
      "display_name": "Python 3"
    },
    "language_info": {
      "name": "python"
    }
  },
  "cells": [
    {
      "cell_type": "markdown",
      "metadata": {
        "id": "-b9JinxemTPw"
      },
      "source": [
        "# Task Description : \n",
        "Develop a Generalized Linear regression model to predict the **Internal energy (U) of saturated vapor** for the given **pressure data (P)** **(see in code line 2)**. Please keep in mind the following:\n",
        "\n",
        "\n",
        "*   1 bonus point - **(functioning model)** and 1 bonus point - **(top 5 models)**.\n",
        "*   Submission Deadline is **May 26, 23:59**.\n",
        "*   Please submit only .ipynb file for consistency.\n",
        "*   Donot copy code from other students otherwise you will not be graded.\n",
        "*   Try to write the code cleanly and only write what is asked in the final submission file.\n",
        "\n",
        "\n",
        "\n"
      ]
    },
    {
      "cell_type": "markdown",
      "source": [
        "*We expect you to upload only 'one' python file with name ***Exercise_3_Task_yourname*** on elearning in exactly the same format as explained below.*"
      ],
      "metadata": {
        "id": "INUiQtqDpIG1"
      }
    },
    {
      "cell_type": "code",
      "execution_count": null,
      "metadata": {
        "id": "59BJgYDfklk8"
      },
      "outputs": [],
      "source": [
        "import pandas as pd\n",
        "import matplotlib.pyplot as plt\n",
        "import seaborn as sn\n",
        "import numpy as np\n",
        "from sklearn.preprocessing import StandardScaler\n",
        "from sklearn.model_selection import train_test_split\n",
        "from sklearn.metrics import mean_squared_error        # to be used for regression model\n",
        "from sklearn.metrics import r2_score \n",
        "from sklearn.model_selection import LeaveOneOut\n",
        "from tqdm.notebook import tqdm\n",
        "from sklearn.linear_model import LinearRegression\n",
        "from mpl_toolkits.mplot3d import Axes3D\n",
        "from matplotlib import cm\n",
        "from sklearn.preprocessing import PolynomialFeatures\n",
        "from sklearn.pipeline import Pipeline\n",
        "from sklearn.base import BaseEstimator, TransformerMixin\n",
        "%matplotlib inline\n",
        "#you can import more libraries if required"
      ]
    },
    {
      "cell_type": "code",
      "source": [
        "# upload data here\n"
      ],
      "metadata": {
        "id": "0bOq1KP2kvlq"
      },
      "execution_count": null,
      "outputs": []
    },
    {
      "cell_type": "code",
      "source": [
        "# perform data cleaning if required and define corresponding variables for [inputs /features]  and [corresponding output (Experimental values)]\n",
        "# Please note: Input/Feature is Pressure and Output is Internal Energy for saturated vapor"
      ],
      "metadata": {
        "id": "JsvpNwFtlgBk"
      },
      "execution_count": null,
      "outputs": []
    },
    {
      "cell_type": "code",
      "source": [
        "# do cross validation with different values of degree of polynomial and visualize (R2_square vs degree of polynomial and MSE vs degree of polynomial) to know what 'degree of polynomial' value performs best on your testing data."
      ],
      "metadata": {
        "id": "oOwPDjRKk3TC"
      },
      "execution_count": null,
      "outputs": []
    },
    {
      "cell_type": "code",
      "source": [
        "# train your final model using all the data points with your 'degree of polynomial value (Please do not calculate any performance metrics, we will do that on our own by checking performance of your model on our testing dataset)"
      ],
      "metadata": {
        "id": "ksVELFEHmzs0"
      },
      "execution_count": null,
      "outputs": []
    }
  ]
}