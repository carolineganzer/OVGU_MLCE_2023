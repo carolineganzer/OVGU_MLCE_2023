{
  "nbformat": 4,
  "nbformat_minor": 0,
  "metadata": {
    "colab": {
      "provenance": []
    },
    "kernelspec": {
      "name": "python3",
      "display_name": "Python 3"
    },
    "language_info": {
      "name": "python"
    }
  },
  "cells": [
    {
      "cell_type": "markdown",
      "metadata": {
        "id": "-b9JinxemTPw"
      },
      "source": [
        "# Task Description : \n",
        "Develop a Deep Neural Network model to predict the **PE** for the given **input data** . Please keep in mind the following:\n",
        "\n",
        "\n",
        "*   1 bonus point - **(functioning model)** and 1 bonus point - **(top 5 models)**.\n",
        "*   Submission Deadline is **June 9, 23:59**.\n",
        "*   Please submit only .ipynb file for consistency.\n",
        "*   Do not copy code from other students otherwise you will not be graded.\n",
        "*   Try to write the code cleanly and only write what is asked in the final submission file.\n",
        "\n",
        "\n",
        "\n"
      ]
    },
    {
      "cell_type": "markdown",
      "source": [
        "*We expect you to upload  ('one' python file with name ***Exercise_4_Task_yourname***  and 'one' model.h5 with name **your_name_final_model.h5** file which contains your final trained model) on elearning in exactly the same format as explained below.*"
      ],
      "metadata": {
        "id": "INUiQtqDpIG1"
      }
    },
    {
      "cell_type": "markdown",
      "source": [
        "**Special Note:** \n",
        "\n",
        "You need to model DNN using  **only pytorch library**. In the class we modelled DNN using tensorflow.keras library. Please use this [link](https://github.com/edgarsmdn/MLCE_book/blob/main/04_DNN_VLE.ipynb) to understand how to model DNN using pytorch and also to know which libraries to import."
      ],
      "metadata": {
        "id": "_svvNLWDTWhn"
      }
    },
    {
      "cell_type": "code",
      "execution_count": null,
      "metadata": {
        "id": "59BJgYDfklk8"
      },
      "outputs": [],
      "source": [
        "#import all required libraries here"
      ]
    },
    {
      "cell_type": "code",
      "source": [
        "# upload data here (use the data provided on github under the task description)"
      ],
      "metadata": {
        "id": "0bOq1KP2kvlq"
      },
      "execution_count": null,
      "outputs": []
    },
    {
      "cell_type": "code",
      "source": [
        "# perform data cleaning if required and define corresponding variables for [inputs /features]  and [corresponding output (Experimental values)]\n",
        "# Please note: Input/Features are AT,V,AP,RH and Output is PE "
      ],
      "metadata": {
        "id": "JsvpNwFtlgBk"
      },
      "execution_count": null,
      "outputs": []
    },
    {
      "cell_type": "code",
      "source": [
        "# do cross validation using GridsearchCv as done in the lecture"
      ],
      "metadata": {
        "id": "oOwPDjRKk3TC"
      },
      "execution_count": null,
      "outputs": []
    },
    {
      "cell_type": "code",
      "source": [
        "# train your final model using all the available data points with optimized hyperparamters (found in best model of GridsearchCv)"
      ],
      "metadata": {
        "id": "ksVELFEHmzs0"
      },
      "execution_count": null,
      "outputs": []
    },
    {
      "cell_type": "code",
      "source": [
        "# write code to save your final trained model and download the saved file with name 'your_name_final_model.h5' to submit along with this python file"
      ],
      "metadata": {
        "id": "7A7_D8OwVQF3"
      },
      "execution_count": null,
      "outputs": []
    },
    {
      "cell_type": "code",
      "source": [
        "# At last write the final function in exactly the same format as taught in class."
      ],
      "metadata": {
        "id": "S1IRqPJ7FqHm"
      },
      "execution_count": null,
      "outputs": []
    },
    {
      "cell_type": "markdown",
      "source": [
        "**Special Note:**\n",
        "\n",
        "You need to model DNN using only pytorch library. In the class we modelled DNN using tensorflow.keras library.[link](https://github.com/edgarsmdn/MLCE_book/blob/main/04_DNN_VLE.ipynb) to understand how to model DNN using pytorch and also to know which libraries to import. Using this link you can also learn and are free to add **Early stopping**, change **regularizers** etc. to define your model."
      ],
      "metadata": {
        "id": "bTtaUucwYKqr"
      }
    }
  ]
}